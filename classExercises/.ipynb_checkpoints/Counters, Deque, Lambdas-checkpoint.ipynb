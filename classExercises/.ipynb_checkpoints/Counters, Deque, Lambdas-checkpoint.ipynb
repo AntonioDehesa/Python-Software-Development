{
 "cells": [
  {
   "cell_type": "code",
   "execution_count": 7,
   "id": "fc95bb52",
   "metadata": {},
   "outputs": [],
   "source": [
    "#Imports\n",
    "from collections import Counter, deque"
   ]
  },
  {
   "cell_type": "code",
   "execution_count": 8,
   "id": "46633e1c",
   "metadata": {},
   "outputs": [],
   "source": [
    "#import collections\n",
    "#dir(collections)"
   ]
  },
  {
   "cell_type": "code",
   "execution_count": 9,
   "id": "79cf5986",
   "metadata": {},
   "outputs": [],
   "source": [
    "text = \"\"\"Jack and Jill went up the hill\n",
    "To fetch a pail of water\n",
    "Jack fell down and broke his crown\n",
    "And Jill came tumbling after\n",
    "Jack got up, and home did trot\n",
    "As fast as he could caper\n",
    "To old Dame Dob, who patched his nob\n",
    "With vinegar and brown paper\n",
    "Jack and Jill went up the hill\n",
    "To fetch a pail of water\n",
    "Jack fell down and broke his crown\n",
    "And Jill came tumbling after\"\"\""
   ]
  },
  {
   "cell_type": "code",
   "execution_count": 10,
   "id": "3897ccce",
   "metadata": {},
   "outputs": [
    {
     "data": {
      "text/plain": [
       "['Jack',\n",
       " 'and',\n",
       " 'Jill',\n",
       " 'went',\n",
       " 'up',\n",
       " 'the',\n",
       " 'hill',\n",
       " 'To',\n",
       " 'fetch',\n",
       " 'a',\n",
       " 'pail',\n",
       " 'of',\n",
       " 'water',\n",
       " 'Jack',\n",
       " 'fell',\n",
       " 'down',\n",
       " 'and',\n",
       " 'broke',\n",
       " 'his',\n",
       " 'crown',\n",
       " 'And',\n",
       " 'Jill',\n",
       " 'came',\n",
       " 'tumbling',\n",
       " 'after',\n",
       " 'Jack',\n",
       " 'got',\n",
       " 'up,',\n",
       " 'and',\n",
       " 'home',\n",
       " 'did',\n",
       " 'trot',\n",
       " 'As',\n",
       " 'fast',\n",
       " 'as',\n",
       " 'he',\n",
       " 'could',\n",
       " 'caper',\n",
       " 'To',\n",
       " 'old',\n",
       " 'Dame',\n",
       " 'Dob,',\n",
       " 'who',\n",
       " 'patched',\n",
       " 'his',\n",
       " 'nob',\n",
       " 'With',\n",
       " 'vinegar',\n",
       " 'and',\n",
       " 'brown',\n",
       " 'paper',\n",
       " 'Jack',\n",
       " 'and',\n",
       " 'Jill',\n",
       " 'went',\n",
       " 'up',\n",
       " 'the',\n",
       " 'hill',\n",
       " 'To',\n",
       " 'fetch',\n",
       " 'a',\n",
       " 'pail',\n",
       " 'of',\n",
       " 'water',\n",
       " 'Jack',\n",
       " 'fell',\n",
       " 'down',\n",
       " 'and',\n",
       " 'broke',\n",
       " 'his',\n",
       " 'crown',\n",
       " 'And',\n",
       " 'Jill',\n",
       " 'came',\n",
       " 'tumbling',\n",
       " 'after']"
      ]
     },
     "execution_count": 10,
     "metadata": {},
     "output_type": "execute_result"
    }
   ],
   "source": [
    "text.split()"
   ]
  },
  {
   "cell_type": "code",
   "execution_count": 14,
   "id": "bfb17c73",
   "metadata": {},
   "outputs": [],
   "source": [
    "my_counter = Counter(text.split())"
   ]
  },
  {
   "cell_type": "code",
   "execution_count": 15,
   "id": "7eb94020",
   "metadata": {},
   "outputs": [
    {
     "data": {
      "text/plain": [
       "Counter({'Jack': 5,\n",
       "         'and': 6,\n",
       "         'Jill': 4,\n",
       "         'went': 2,\n",
       "         'up': 2,\n",
       "         'the': 2,\n",
       "         'hill': 2,\n",
       "         'To': 3,\n",
       "         'fetch': 2,\n",
       "         'a': 2,\n",
       "         'pail': 2,\n",
       "         'of': 2,\n",
       "         'water': 2,\n",
       "         'fell': 2,\n",
       "         'down': 2,\n",
       "         'broke': 2,\n",
       "         'his': 3,\n",
       "         'crown': 2,\n",
       "         'And': 2,\n",
       "         'came': 2,\n",
       "         'tumbling': 2,\n",
       "         'after': 2,\n",
       "         'got': 1,\n",
       "         'up,': 1,\n",
       "         'home': 1,\n",
       "         'did': 1,\n",
       "         'trot': 1,\n",
       "         'As': 1,\n",
       "         'fast': 1,\n",
       "         'as': 1,\n",
       "         'he': 1,\n",
       "         'could': 1,\n",
       "         'caper': 1,\n",
       "         'old': 1,\n",
       "         'Dame': 1,\n",
       "         'Dob,': 1,\n",
       "         'who': 1,\n",
       "         'patched': 1,\n",
       "         'nob': 1,\n",
       "         'With': 1,\n",
       "         'vinegar': 1,\n",
       "         'brown': 1,\n",
       "         'paper': 1})"
      ]
     },
     "execution_count": 15,
     "metadata": {},
     "output_type": "execute_result"
    }
   ],
   "source": [
    "my_counter"
   ]
  },
  {
   "cell_type": "code",
   "execution_count": 16,
   "id": "10ffe052",
   "metadata": {},
   "outputs": [],
   "source": [
    "mydeck = deque([1,2,3,4,5])"
   ]
  },
  {
   "cell_type": "code",
   "execution_count": 18,
   "id": "d6142d32",
   "metadata": {},
   "outputs": [],
   "source": [
    "mydeck.append(6)"
   ]
  },
  {
   "cell_type": "code",
   "execution_count": 19,
   "id": "4a7c4892",
   "metadata": {},
   "outputs": [
    {
     "data": {
      "text/plain": [
       "deque([1, 2, 3, 4, 5, 6])"
      ]
     },
     "execution_count": 19,
     "metadata": {},
     "output_type": "execute_result"
    }
   ],
   "source": [
    "mydeck"
   ]
  },
  {
   "cell_type": "code",
   "execution_count": null,
   "id": "1b35cdba",
   "metadata": {},
   "outputs": [],
   "source": []
  }
 ],
 "metadata": {
  "kernelspec": {
   "display_name": "Python 3 (ipykernel)",
   "language": "python",
   "name": "python3"
  },
  "language_info": {
   "codemirror_mode": {
    "name": "ipython",
    "version": 3
   },
   "file_extension": ".py",
   "mimetype": "text/x-python",
   "name": "python",
   "nbconvert_exporter": "python",
   "pygments_lexer": "ipython3",
   "version": "3.9.12"
  }
 },
 "nbformat": 4,
 "nbformat_minor": 5
}
